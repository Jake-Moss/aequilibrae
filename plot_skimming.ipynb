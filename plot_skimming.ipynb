{
  "cells": [
    {
      "cell_type": "markdown",
      "metadata": {},
      "source": [
        "\n",
        "\n",
        "# Network skimming\n",
        "\n",
        "In this example, we show how to perform network skimming for Coquimbo, a city in La Serena Metropolitan Area in Chile.\n"
      ]
    },
    {
      "cell_type": "markdown",
      "metadata": {},
      "source": [
        ".. seealso::\n",
        "    Several functions, methods, classes and modules are used in this example:\n",
        "\n",
        "    * :func:`aequilibrae.paths.NetworkSkimming`\n",
        "\n"
      ]
    },
    {
      "cell_type": "code",
      "execution_count": 3,
      "metadata": {
        "collapsed": false
      },
      "outputs": [],
      "source": [
        "# Imports\n",
        "from uuid import uuid4\n",
        "from tempfile import gettempdir\n",
        "from os.path import join\n",
        "from aequilibrae.utils.create_example import create_example"
      ]
    },
    {
      "cell_type": "code",
      "execution_count": 4,
      "metadata": {
        "collapsed": false
      },
      "outputs": [],
      "source": [
        "# We create the example project inside our temp folder\n",
        "fldr = join(gettempdir(), uuid4().hex)\n",
        "\n",
        "project = create_example(fldr, \"coquimbo\")"
      ]
    },
    {
      "cell_type": "code",
      "execution_count": 5,
      "metadata": {
        "collapsed": false
      },
      "outputs": [],
      "source": [
        "import logging\n",
        "import sys"
      ]
    },
    {
      "cell_type": "markdown",
      "metadata": {},
      "source": [
        "When the project opens, we can tell the logger to direct all messages to the terminal as well\n",
        "\n"
      ]
    },
    {
      "cell_type": "code",
      "execution_count": 6,
      "metadata": {
        "collapsed": false
      },
      "outputs": [],
      "source": [
        "logger = project.logger\n",
        "stdout_handler = logging.StreamHandler(sys.stdout)\n",
        "formatter = logging.Formatter(\"%(asctime)s;%(levelname)s ; %(message)s\")\n",
        "stdout_handler.setFormatter(formatter)\n",
        "logger.addHandler(stdout_handler)"
      ]
    },
    {
      "cell_type": "markdown",
      "metadata": {},
      "source": [
        "## Network Skimming\n",
        "\n"
      ]
    },
    {
      "cell_type": "code",
      "execution_count": 7,
      "metadata": {
        "collapsed": false
      },
      "outputs": [],
      "source": [
        "from aequilibrae.paths import NetworkSkimming\n",
        "import numpy as np"
      ]
    },
    {
      "cell_type": "markdown",
      "metadata": {},
      "source": [
        "Let's build all graphs\n",
        "\n"
      ]
    },
    {
      "cell_type": "code",
      "execution_count": 8,
      "metadata": {
        "collapsed": false
      },
      "outputs": [
        {
          "name": "stdout",
          "output_type": "stream",
          "text": [
            "2024-12-16 10:40:56,406;WARNING ; Field(s) speed, travel_time, capacity, osm_id, lanes has(ve) at least one NaN value. Check your computations\n",
            "2024-12-16 10:40:56,720;WARNING ; Field(s) speed, travel_time, capacity, osm_id, lanes has(ve) at least one NaN value. Check your computations\n",
            "2024-12-16 10:40:57,005;WARNING ; Field(s) speed, travel_time, capacity, osm_id, lanes has(ve) at least one NaN value. Check your computations\n",
            "2024-12-16 10:40:57,337;WARNING ; Field(s) speed, travel_time, capacity, osm_id, lanes has(ve) at least one NaN value. Check your computations\n"
          ]
        }
      ],
      "source": [
        "project.network.build_graphs()\n",
        "# We get warnings that several fields in the project are filled with ``NaN``s.\n",
        "# This is true, but we won't use those fields."
      ]
    },
    {
      "cell_type": "markdown",
      "metadata": {},
      "source": [
        "We grab the graph for cars\n",
        "\n"
      ]
    },
    {
      "cell_type": "code",
      "execution_count": 9,
      "metadata": {
        "collapsed": false
      },
      "outputs": [
        {
          "name": "stdout",
          "output_type": "stream",
          "text": [
            "2024-12-16 10:41:12,706;WARNING ; Field(s) speed, travel_time, capacity, osm_id, lanes has(ve) at least one NaN value. Check your computations\n"
          ]
        }
      ],
      "source": [
        "graph = project.network.graphs[\"c\"]\n",
        "\n",
        "# we also see what graphs are available\n",
        "project.network.graphs.keys()\n",
        "\n",
        "# let's say we want to minimize the distance\n",
        "graph.set_graph(\"distance\")\n",
        "\n",
        "# And will skim distance while we are at it, other fields like ``free_flow_time`` or ``travel_time`` \n",
        "# can be added here as well\n",
        "graph.set_skimming([\"distance\"])\n",
        "\n",
        "# But let's say we only want a skim matrix for nodes 28-40, and 49-60 (inclusive), \n",
        "# these happen to be a selection of western centroids.\n",
        "graph.prepare_graph(np.array(list(range(28, 41)) + list(range(49, 91))))"
      ]
    },
    {
      "cell_type": "markdown",
      "metadata": {},
      "source": [
        "And run the skimming\n",
        "\n"
      ]
    },
    {
      "cell_type": "code",
      "execution_count": 10,
      "metadata": {
        "collapsed": false
      },
      "outputs": [
        {
          "name": "stderr",
          "output_type": "stream",
          "text": [
            "                                                                                                    6.07it/s]\r"
          ]
        }
      ],
      "source": [
        "skm = NetworkSkimming(graph)\n",
        "skm.execute()"
      ]
    },
    {
      "cell_type": "markdown",
      "metadata": {},
      "source": [
        "The result is an AequilibraEMatrix object\n",
        "\n"
      ]
    },
    {
      "cell_type": "code",
      "execution_count": 11,
      "metadata": {
        "collapsed": false
      },
      "outputs": [
        {
          "data": {
            "text/plain": [
              "array([[[   0.        ],\n",
              "        [4166.92919206],\n",
              "        [5532.32681478]],\n",
              "\n",
              "       [[3733.4499255 ],\n",
              "        [   0.        ],\n",
              "        [3311.30654014]],\n",
              "\n",
              "       [[5446.26074416],\n",
              "        [3596.12274848],\n",
              "        [   0.        ]]])"
            ]
          },
          "execution_count": 11,
          "metadata": {},
          "output_type": "execute_result"
        }
      ],
      "source": [
        "skims = skm.results.skims\n",
        "\n",
        "# Which we can manipulate directly from its temp file, if we wish\n",
        "skims.matrices[:3, :3, :]"
      ]
    },
    {
      "cell_type": "markdown",
      "metadata": {},
      "source": [
        "Or access each matrix, lets just look at the first 3x3\n",
        "\n"
      ]
    },
    {
      "cell_type": "code",
      "execution_count": 12,
      "metadata": {
        "collapsed": false
      },
      "outputs": [
        {
          "data": {
            "text/plain": [
              "array([[   0.        , 4166.92919206, 5532.32681478],\n",
              "       [3733.4499255 ,    0.        , 3311.30654014],\n",
              "       [5446.26074416, 3596.12274848,    0.        ]])"
            ]
          },
          "execution_count": 12,
          "metadata": {},
          "output_type": "execute_result"
        }
      ],
      "source": [
        "skims.distance[:3, :3]"
      ]
    },
    {
      "cell_type": "markdown",
      "metadata": {},
      "source": [
        "We can save it to the project if we want\n",
        "\n"
      ]
    },
    {
      "cell_type": "code",
      "execution_count": null,
      "metadata": {
        "collapsed": false
      },
      "outputs": [],
      "source": [
        "skm.save_to_project(\"base_skims\")"
      ]
    },
    {
      "cell_type": "markdown",
      "metadata": {},
      "source": [
        "We can also retrieve this skim record to write something to its description\n",
        "\n"
      ]
    },
    {
      "cell_type": "code",
      "execution_count": null,
      "metadata": {
        "collapsed": false
      },
      "outputs": [],
      "source": [
        "matrices = project.matrices\n",
        "mat_record = matrices.get_record(\"base_skims\")\n",
        "mat_record.description = \"minimized distance while also skimming distance for just a few nodes\"\n",
        "mat_record.save()"
      ]
    },
    {
      "cell_type": "code",
      "execution_count": 13,
      "metadata": {
        "collapsed": false
      },
      "outputs": [],
      "source": [
        "project.close()"
      ]
    },
    {
      "cell_type": "code",
      "execution_count": null,
      "metadata": {},
      "outputs": [],
      "source": []
    }
  ],
  "metadata": {
    "kernelspec": {
      "display_name": ".venv",
      "language": "python",
      "name": "python3"
    },
    "language_info": {
      "codemirror_mode": {
        "name": "ipython",
        "version": 3
      },
      "file_extension": ".py",
      "mimetype": "text/x-python",
      "name": "python",
      "nbconvert_exporter": "python",
      "pygments_lexer": "ipython3",
      "version": "3.9.13"
    }
  },
  "nbformat": 4,
  "nbformat_minor": 0
}
