{
 "cells": [
  {
   "cell_type": "code",
   "execution_count": 1,
   "id": "6cb9f6bb-85fb-43c7-bfa4-80d0a37353ec",
   "metadata": {},
   "outputs": [],
   "source": [
    "import sys\n",
    "sys.path.append('..')"
   ]
  },
  {
   "cell_type": "code",
   "execution_count": 2,
   "id": "9a2a7f69-e1b9-47b8-95b6-22d925f06e70",
   "metadata": {},
   "outputs": [],
   "source": [
    "import sqlite3\n",
    "import pandas as pd\n",
    "from copy import deepcopy\n",
    "from os.path import join\n",
    "import gc"
   ]
  },
  {
   "cell_type": "code",
   "execution_count": 3,
   "id": "0be18ec4-fc62-4fae-a8f1-614bcca3be18",
   "metadata": {},
   "outputs": [],
   "source": [
    "from os.path import join\n",
    "from aequilibrae import Project\n",
    "from aequilibrae.paths import TrafficAssignment, TrafficClass\n",
    "from aequilibrae.paths.select_link import SelectLink\n",
    "import logging\n",
    "import sys\n",
    "\n",
    "import numpy as np"
   ]
  },
  {
   "cell_type": "code",
   "execution_count": 4,
   "id": "b4f43a93-2b33-45a7-9378-52d7e7d1d598",
   "metadata": {},
   "outputs": [],
   "source": [
    "pth = 'D:/GDrive/DATA/Pedro/Professional/Consulting/2021/01-01 - Network criticality analysis (UArk)/DATA/simple_model'\n",
    "\n",
    "proj = Project()\n",
    "proj.open(pth)\n",
    "net = proj.network"
   ]
  },
  {
   "cell_type": "code",
   "execution_count": null,
   "id": "e29f6af9-6ba5-4bbc-aa0b-a6b8104592a9",
   "metadata": {},
   "outputs": [],
   "source": [
    "%%time\n",
    "mat_list = proj_matrices.list()\n",
    "\n",
    "modes = net.modes\n",
    "modes.all_modes()\n",
    "\n",
    "nodes = net.nodes\n",
    "\n",
    "for n in [4701, 4702, 4703]:\n",
    "    nd = nodes.get(n)\n",
    "    nd.is_centroid = 0\n",
    "    nd.save()\n",
    "\n",
    "net.build_graphs(modes=['T'])\n",
    "truckGraph = net.graphs['T']\n",
    "net.build_graphs(modes=['c'])\n",
    "carGraph = net.graphs['c']"
   ]
  },
  {
   "cell_type": "code",
   "execution_count": null,
   "id": "e15e66c0-b3f8-4dcf-aa39-4c6e8a2d852f",
   "metadata": {},
   "outputs": [],
   "source": [
    "%%time\n",
    "# Link exclusions\n",
    "\n",
    "exclude_from_passenger = [x[0] for x in proj.conn.execute(\"select link_id from links where exclusionset IN ('TruckOnly', 'HOV2', 'HOV3')\")]\n",
    "\n",
    "exclude_from_truck = [x[0] for x in proj.conn.execute(\"select link_id from links where exclusionset IN ('PassengerOnly', 'HOV2', 'HOV3')\")]\n",
    "\n",
    "\n",
    "graph = truckGraph\n",
    "set1 = graph.network[(graph.network.builtyear > 2010) | (graph.network.removedyear < 2010)].link_id.to_list()\n",
    "set2 = graph.network[(graph.network.mode_code <10) | (graph.network.mode_code >11)].link_id.to_list()\n",
    "exclude_from_passenger.extend(set1 + set2)\n",
    "exclude_from_truck.extend(set1 + set2)\n",
    "\n",
    "truckGraph.exclude_links(exclude_from_truck)\n",
    "carGraph.exclude_links(exclude_from_passenger)\n",
    "\n",
    "nodes = net.nodes\n",
    "for n in [4701, 4702, 4703]:\n",
    "    nd = nodes.get(n)\n",
    "    nd.is_centroid = 1\n",
    "    nd.save()\n",
    "\n",
    "for graph in [carGraph, truckGraph]:\n",
    "    graph.graph.alpha.fillna(0.15, inplace=True)\n",
    "    graph.graph.beta.fillna(4.0, inplace=True)\n",
    "    graph.graph.hov1tollcost.fillna(0, inplace=True)\n",
    "    graph.graph.mttollcost.fillna(0, inplace=True)\n",
    "    graph.graph.httollcost.fillna(0, inplace=True)\n",
    "    for period in ['am', 'pm', 'md', 'nt']:\n",
    "        graph.graph.loc[graph.graph.a_node == graph.graph.b_node, f\"{period}_assncap_10\"] = 1.0\n",
    "        graph.graph.loc[graph.graph.a_node == graph.graph.b_node, f\"tt_{period}_10\"] = 0.001\n",
    "ref_carGraph = deepcopy(carGraph)\n",
    "ref_truckGraph = deepcopy(truckGraph)"
   ]
  },
  {
   "cell_type": "markdown",
   "id": "c31a2c15-f3eb-42e6-a36e-9e8fa572cd9c",
   "metadata": {},
   "source": [
    "## Baseline assignment"
   ]
  },
  {
   "cell_type": "code",
   "execution_count": 5,
   "id": "458beaf7",
   "metadata": {},
   "outputs": [],
   "source": [
    "period= 'am'\n",
    "proj_matrices = proj.matrices\n",
    "proj_matrices = proj.matrices\n",
    "carDemand = proj_matrices.get_matrix(f'{period.upper()}_omx')\n",
    "carDemand.computational_view('AUTO')\n",
    "\n",
    "lightTruckDemand = proj_matrices.get_matrix(f'{period.upper()}_omx')\n",
    "lightTruckDemand.computational_view('COMMTRK')\n",
    "lightTruckDemand.matrix_view = np.array(lightTruckDemand.matrix_view, np.float64)\n",
    "\n",
    "heavyTruckDemand = proj_matrices.get_matrix(f'{period.upper()}_omx')\n",
    "heavyTruckDemand.computational_view('HTRK')\n",
    "heavyTruckDemand.matrix_view = np.array(heavyTruckDemand.matrix_view, np.float64)"
   ]
  },
  {
   "cell_type": "code",
   "execution_count": null,
   "id": "924f5510-6912-4445-b646-a6dcc73bc079",
   "metadata": {},
   "outputs": [],
   "source": [
    "\n",
    "assig = TrafficAssignment()\n",
    "# assig.procedure_id = f'{period}_baseline'\n",
    "carClass = TrafficClass('car', carGraph, carDemand)\n",
    "carClass.set_pce(1)\n",
    "carClass.set_vot(0.2)\n",
    "carClass.set_fixed_cost('hov1tollcost')\n",
    "\n",
    "# The link exclusions for commercial trucks are actually the same as the ones for passenger cars, and not heavy trucks\n",
    "lightTruckClass = TrafficClass('light_truck', carGraph, lightTruckDemand)\n",
    "lightTruckClass.set_pce(1.5)\n",
    "lightTruckClass.set_vot(0.5)\n",
    "lightTruckClass.set_fixed_cost(\"mttollcost\")\n",
    "\n",
    "heavyTruckClass = TrafficClass('heavy_truck', truckGraph, heavyTruckDemand)\n",
    "heavyTruckClass.set_pce(2.5)\n",
    "heavyTruckClass.set_vot(1.0)\n",
    "heavyTruckClass.set_fixed_cost(\"httollcost\")\n",
    "\n",
    "# The first thing to do is to add at list of traffic classes to be assigned\n",
    "assig.set_classes([heavyTruckClass, carClass, lightTruckClass])\n",
    "assig.set_vdf(\"BPR\")  # This is not case-sensitive # Then we set the volume delay function\n",
    "\n",
    "assig.set_vdf_parameters({\"alpha\": \"alpha\", \"beta\": \"beta\"})  # And its parameters\n",
    "\n",
    "assig.set_time_field(f\"tt_{period}_10\")\n",
    "assig.set_capacity_field(f\"{period}_assncap_10\")  # The capacity and free flow travel times as they exist in the graph\n",
    "\n",
    "# And the algorithm we want to use to assign\n",
    "assig.set_save_path_files(True)\n",
    "assig.set_algorithm('msa')\n",
    "assig.max_iter = 10\n",
    "assig.rgap_target = 0.001\n",
    "\n",
    "assig.execute()  # we then execute the assignment\n",
    "assig.save_results(f'{period}__path_files')\n",
    "baseline = assig.results()"
   ]
  },
  {
   "cell_type": "code",
   "execution_count": 6,
   "id": "d20eb570",
   "metadata": {},
   "outputs": [],
   "source": [
    "carDemand.matrix_view = carDemand.matrix_view.reshape(6445, 6445, 1)\n",
    "lightTruckDemand.matrix_view = lightTruckDemand.matrix_view.reshape(6445, 6445, 1)\n",
    "heavyTruckDemand.matrix_view = heavyTruckDemand.matrix_view.reshape(6445, 6445, 1)\n"
   ]
  },
  {
   "cell_type": "code",
   "execution_count": 17,
   "id": "3dbe8675",
   "metadata": {},
   "outputs": [
    {
     "data": {
      "text/plain": [
       "568"
      ]
     },
     "execution_count": 17,
     "metadata": {},
     "output_type": "execute_result"
    }
   ],
   "source": [
    "del sl\n",
    "gc.collect()"
   ]
  },
  {
   "cell_type": "code",
   "execution_count": 7,
   "id": "051e8e54",
   "metadata": {},
   "outputs": [],
   "source": [
    "sl_ids = [x for x in range(100)]\n",
    "sl_ids = [0]"
   ]
  },
  {
   "cell_type": "code",
   "execution_count": 8,
   "id": "e2dd3ddb",
   "metadata": {},
   "outputs": [],
   "source": [
    "demand_mat = {\"car\": carDemand,\"light_truck\": lightTruckDemand, \"heavy_truck\": heavyTruckDemand}\n",
    "res_name = f'{period}__path_files'\n",
    "sl = SelectLink(res_name, demand_mat)"
   ]
  },
  {
   "cell_type": "code",
   "execution_count": 9,
   "id": "ed96e2d1",
   "metadata": {},
   "outputs": [
    {
     "ename": "FileNotFoundError",
     "evalue": "[Errno 2] No such file or directory: 'D:/GDrive/DATA/Pedro/Professional/Consulting/2021/01-01 - Network criticality analysis (UArk)/DATA/simple_model\\\\path_files\\\\2df734b2206746389f093145d8b88633\\\\iter3\\\\path_cc_car\\\\o0.feather'",
     "output_type": "error",
     "traceback": [
      "\u001b[1;31m---------------------------------------------------------------------------\u001b[0m",
      "\u001b[1;31mFileNotFoundError\u001b[0m                         Traceback (most recent call last)",
      "\u001b[1;32m<ipython-input-9-1e088f265e49>\u001b[0m in \u001b[0;36m<module>\u001b[1;34m\u001b[0m\n\u001b[1;32m----> 1\u001b[1;33m \u001b[0msl_result\u001b[0m \u001b[1;33m=\u001b[0m \u001b[0msl\u001b[0m\u001b[1;33m.\u001b[0m\u001b[0mrun_select_link_analysis\u001b[0m\u001b[1;33m(\u001b[0m\u001b[0msl_ids\u001b[0m\u001b[1;33m)\u001b[0m\u001b[1;33m\u001b[0m\u001b[1;33m\u001b[0m\u001b[0m\n\u001b[0m",
      "\u001b[1;32mD:\\src\\aequilibrae\\aequilibrae\\paths\\select_link.py\u001b[0m in \u001b[0;36mrun_select_link_analysis\u001b[1;34m(self, link_ids)\u001b[0m\n\u001b[0;32m    150\u001b[0m                     \u001b[1;32mif\u001b[0m \u001b[1;32mnot\u001b[0m \u001b[0mnp\u001b[0m\u001b[1;33m.\u001b[0m\u001b[0mnansum\u001b[0m\u001b[1;33m(\u001b[0m\u001b[0mself\u001b[0m\u001b[1;33m.\u001b[0m\u001b[0mdemand_matrices\u001b[0m\u001b[1;33m[\u001b[0m\u001b[0mclass_id\u001b[0m\u001b[1;33m]\u001b[0m\u001b[1;33m.\u001b[0m\u001b[0mmatrix_view\u001b[0m\u001b[1;33m[\u001b[0m\u001b[0morigin\u001b[0m\u001b[1;33m,\u001b[0m \u001b[1;33m:\u001b[0m\u001b[1;33m,\u001b[0m \u001b[1;33m:\u001b[0m\u001b[1;33m]\u001b[0m\u001b[1;33m)\u001b[0m\u001b[1;33m:\u001b[0m\u001b[1;33m\u001b[0m\u001b[1;33m\u001b[0m\u001b[0m\n\u001b[0;32m    151\u001b[0m                         \u001b[1;32mcontinue\u001b[0m\u001b[1;33m\u001b[0m\u001b[1;33m\u001b[0m\u001b[0m\n\u001b[1;32m--> 152\u001b[1;33m                     \u001b[0mpath_o\u001b[0m\u001b[1;33m,\u001b[0m \u001b[0mpath_o_index\u001b[0m \u001b[1;33m=\u001b[0m \u001b[0mself\u001b[0m\u001b[1;33m.\u001b[0m\u001b[0mpaths\u001b[0m\u001b[1;33m.\u001b[0m\u001b[0mread_path_file\u001b[0m\u001b[1;33m(\u001b[0m\u001b[0morigin\u001b[0m\u001b[1;33m,\u001b[0m \u001b[0miteration\u001b[0m\u001b[1;33m,\u001b[0m \u001b[0mclass_id\u001b[0m\u001b[1;33m)\u001b[0m\u001b[1;33m\u001b[0m\u001b[1;33m\u001b[0m\u001b[0m\n\u001b[0m\u001b[0;32m    153\u001b[0m                     \u001b[1;31m# drop disconnected zones (and intrazonal). Depends on index being ordered.\u001b[0m\u001b[1;33m\u001b[0m\u001b[1;33m\u001b[0m\u001b[1;33m\u001b[0m\u001b[0m\n\u001b[0;32m    154\u001b[0m                     \u001b[0mpath_o_index_no_zeros\u001b[0m \u001b[1;33m=\u001b[0m \u001b[0mpath_o_index\u001b[0m\u001b[1;33m.\u001b[0m\u001b[0mdrop_duplicates\u001b[0m\u001b[1;33m(\u001b[0m\u001b[0mkeep\u001b[0m\u001b[1;33m=\u001b[0m\u001b[1;34m\"first\"\u001b[0m\u001b[1;33m)\u001b[0m\u001b[1;33m\u001b[0m\u001b[1;33m\u001b[0m\u001b[0m\n",
      "\u001b[1;32mD:\\src\\aequilibrae\\aequilibrae\\paths\\assignment_paths.py\u001b[0m in \u001b[0;36mread_path_file\u001b[1;34m(self, origin, iteration, traffic_class_id)\u001b[0m\n\u001b[0;32m    115\u001b[0m         \u001b[0mpath_o_f\u001b[0m \u001b[1;33m=\u001b[0m \u001b[0mos\u001b[0m\u001b[1;33m.\u001b[0m\u001b[0mpath\u001b[0m\u001b[1;33m.\u001b[0m\u001b[0mjoin\u001b[0m\u001b[1;33m(\u001b[0m\u001b[0mbase_dir\u001b[0m\u001b[1;33m,\u001b[0m \u001b[1;34mf\"o{origin}.feather\"\u001b[0m\u001b[1;33m)\u001b[0m\u001b[1;33m\u001b[0m\u001b[1;33m\u001b[0m\u001b[0m\n\u001b[0;32m    116\u001b[0m         \u001b[0mpath_o_index_f\u001b[0m \u001b[1;33m=\u001b[0m \u001b[0mos\u001b[0m\u001b[1;33m.\u001b[0m\u001b[0mpath\u001b[0m\u001b[1;33m.\u001b[0m\u001b[0mjoin\u001b[0m\u001b[1;33m(\u001b[0m\u001b[0mbase_dir\u001b[0m\u001b[1;33m,\u001b[0m \u001b[1;34mf\"o{origin}_indexdata.feather\"\u001b[0m\u001b[1;33m)\u001b[0m\u001b[1;33m\u001b[0m\u001b[1;33m\u001b[0m\u001b[0m\n\u001b[1;32m--> 117\u001b[1;33m         \u001b[0mpath_o\u001b[0m \u001b[1;33m=\u001b[0m \u001b[0mpd\u001b[0m\u001b[1;33m.\u001b[0m\u001b[0mread_feather\u001b[0m\u001b[1;33m(\u001b[0m\u001b[0mpath_o_f\u001b[0m\u001b[1;33m)\u001b[0m\u001b[1;33m\u001b[0m\u001b[1;33m\u001b[0m\u001b[0m\n\u001b[0m\u001b[0;32m    118\u001b[0m         \u001b[0mpath_o_index\u001b[0m \u001b[1;33m=\u001b[0m \u001b[0mpd\u001b[0m\u001b[1;33m.\u001b[0m\u001b[0mread_feather\u001b[0m\u001b[1;33m(\u001b[0m\u001b[0mpath_o_index_f\u001b[0m\u001b[1;33m)\u001b[0m\u001b[1;33m\u001b[0m\u001b[1;33m\u001b[0m\u001b[0m\n\u001b[0;32m    119\u001b[0m         \u001b[1;32mreturn\u001b[0m \u001b[0mpath_o\u001b[0m\u001b[1;33m,\u001b[0m \u001b[0mpath_o_index\u001b[0m\u001b[1;33m\u001b[0m\u001b[1;33m\u001b[0m\u001b[0m\n",
      "\u001b[1;32mc:\\users\\pedro\\.virtualenvs\\aequilibrae-zvti-vm1\\lib\\site-packages\\pandas\\io\\feather_format.py\u001b[0m in \u001b[0;36mread_feather\u001b[1;34m(path, columns, use_threads, storage_options)\u001b[0m\n\u001b[0;32m    122\u001b[0m \u001b[1;33m\u001b[0m\u001b[0m\n\u001b[0;32m    123\u001b[0m     with get_handle(\n\u001b[1;32m--> 124\u001b[1;33m         \u001b[0mpath\u001b[0m\u001b[1;33m,\u001b[0m \u001b[1;34m\"rb\"\u001b[0m\u001b[1;33m,\u001b[0m \u001b[0mstorage_options\u001b[0m\u001b[1;33m=\u001b[0m\u001b[0mstorage_options\u001b[0m\u001b[1;33m,\u001b[0m \u001b[0mis_text\u001b[0m\u001b[1;33m=\u001b[0m\u001b[1;32mFalse\u001b[0m\u001b[1;33m\u001b[0m\u001b[1;33m\u001b[0m\u001b[0m\n\u001b[0m\u001b[0;32m    125\u001b[0m     ) as handles:\n\u001b[0;32m    126\u001b[0m \u001b[1;33m\u001b[0m\u001b[0m\n",
      "\u001b[1;32mc:\\users\\pedro\\.virtualenvs\\aequilibrae-zvti-vm1\\lib\\site-packages\\pandas\\io\\common.py\u001b[0m in \u001b[0;36mget_handle\u001b[1;34m(path_or_buf, mode, encoding, compression, memory_map, is_text, errors, storage_options)\u001b[0m\n\u001b[0;32m    649\u001b[0m         \u001b[1;32melse\u001b[0m\u001b[1;33m:\u001b[0m\u001b[1;33m\u001b[0m\u001b[1;33m\u001b[0m\u001b[0m\n\u001b[0;32m    650\u001b[0m             \u001b[1;31m# Binary mode\u001b[0m\u001b[1;33m\u001b[0m\u001b[1;33m\u001b[0m\u001b[1;33m\u001b[0m\u001b[0m\n\u001b[1;32m--> 651\u001b[1;33m             \u001b[0mhandle\u001b[0m \u001b[1;33m=\u001b[0m \u001b[0mopen\u001b[0m\u001b[1;33m(\u001b[0m\u001b[0mhandle\u001b[0m\u001b[1;33m,\u001b[0m \u001b[0mioargs\u001b[0m\u001b[1;33m.\u001b[0m\u001b[0mmode\u001b[0m\u001b[1;33m)\u001b[0m\u001b[1;33m\u001b[0m\u001b[1;33m\u001b[0m\u001b[0m\n\u001b[0m\u001b[0;32m    652\u001b[0m         \u001b[0mhandles\u001b[0m\u001b[1;33m.\u001b[0m\u001b[0mappend\u001b[0m\u001b[1;33m(\u001b[0m\u001b[0mhandle\u001b[0m\u001b[1;33m)\u001b[0m\u001b[1;33m\u001b[0m\u001b[1;33m\u001b[0m\u001b[0m\n\u001b[0;32m    653\u001b[0m \u001b[1;33m\u001b[0m\u001b[0m\n",
      "\u001b[1;31mFileNotFoundError\u001b[0m: [Errno 2] No such file or directory: 'D:/GDrive/DATA/Pedro/Professional/Consulting/2021/01-01 - Network criticality analysis (UArk)/DATA/simple_model\\\\path_files\\\\2df734b2206746389f093145d8b88633\\\\iter3\\\\path_cc_car\\\\o0.feather'"
     ]
    }
   ],
   "source": [
    "sl_result = sl.run_select_link_analysis(sl_ids)"
   ]
  }
 ],
 "metadata": {
  "kernelspec": {
   "display_name": "Python 3",
   "language": "python",
   "name": "python3"
  },
  "language_info": {
   "codemirror_mode": {
    "name": "ipython",
    "version": 3
   },
   "file_extension": ".py",
   "mimetype": "text/x-python",
   "name": "python",
   "nbconvert_exporter": "python",
   "pygments_lexer": "ipython3",
   "version": "3.7.9"
  }
 },
 "nbformat": 4,
 "nbformat_minor": 5
}
