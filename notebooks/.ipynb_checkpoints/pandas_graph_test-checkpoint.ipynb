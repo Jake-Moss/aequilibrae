{
 "cells": [
  {
   "cell_type": "code",
   "execution_count": null,
   "metadata": {},
   "outputs": [],
   "source": [
    "import sys\n",
    "sys.path.append('..')"
   ]
  },
  {
   "cell_type": "markdown",
   "metadata": {},
   "source": [
    "# Imports\n",
    "\n"
   ]
  },
  {
   "cell_type": "code",
   "execution_count": null,
   "metadata": {},
   "outputs": [],
   "source": [
    "from uuid import uuid4\n",
    "from tempfile import gettempdir\n",
    "from os.path import join\n",
    "from aequilibrae import Project\n",
    "import shapely.wkb\n",
    "from shapely.geometry import Point\n",
    "from math import sqrt\n",
    "import pandas as pd\n",
    "import numpy as np\n",
    "from time import clock"
   ]
  },
  {
   "cell_type": "markdown",
   "metadata": {},
   "source": [
    "We create an empty project on an arbitrary folder\n",
    "\n"
   ]
  },
  {
   "cell_type": "code",
   "execution_count": null,
   "metadata": {},
   "outputs": [],
   "source": [
    "fldr = 'D:/release/Sample models/Chicago_2020_02_15/1_project'\n",
    "fldr = 'D:/GDrive/DATA/Pedro/Professional/Consulting/University of Arkansas/2020-09 - Network criticality analysis/DATA/model'\n",
    "project = Project()\n",
    "project.open(fldr)"
   ]
  },
  {
   "cell_type": "markdown",
   "metadata": {},
   "source": [
    "Now we can download the network from any place in the world (as long as you have memory for all the download\n",
    "and data wrangling that will be done)\n",
    "\n"
   ]
  },
  {
   "cell_type": "code",
   "execution_count": null,
   "metadata": {},
   "outputs": [],
   "source": [
    "network = project.network"
   ]
  },
  {
   "cell_type": "code",
   "execution_count": null,
   "metadata": {},
   "outputs": [],
   "source": [
    "network.build_graphs(modes='c')"
   ]
  },
  {
   "cell_type": "code",
   "execution_count": null,
   "metadata": {},
   "outputs": [],
   "source": [
    "graph = network.graphs['c']"
   ]
  },
  {
   "cell_type": "code",
   "execution_count": null,
   "metadata": {},
   "outputs": [],
   "source": [
    "df = pd.DataFrame(graph.network)\n",
    "net = graph.network"
   ]
  },
  {
   "cell_type": "code",
   "execution_count": null,
   "metadata": {},
   "outputs": [],
   "source": [
    "df.link_id.dtype"
   ]
  },
  {
   "cell_type": "code",
   "execution_count": null,
   "metadata": {},
   "outputs": [],
   "source": [
    "t = clock()"
   ]
  },
  {
   "cell_type": "code",
   "execution_count": null,
   "metadata": {},
   "outputs": [],
   "source": [
    "# Sort the network links\n",
    "# ind = np.lexsort((net['b_node'], net['a_node']))\n",
    "# net = net[ind]"
   ]
  },
  {
   "cell_type": "code",
   "execution_count": null,
   "metadata": {},
   "outputs": [],
   "source": [
    "# Build link index\n",
    "link_idx = np.empty(net['link_id'].max() + 1).astype(np.int)\n",
    "link_idx[net['link_id']] = np.arange(net.shape[0])"
   ]
  },
  {
   "cell_type": "code",
   "execution_count": null,
   "metadata": {},
   "outputs": [],
   "source": [
    "list_nodes = np.unique(np.hstack([net['a_node'], net['b_node']]))\n",
    "links_index = {x:[] for x in list_nodes}\n",
    "for i in net:\n",
    "    links_index[i['a_node']].append(i['link_id'])\n",
    "    links_index[i['b_node']].append(i['link_id'])"
   ]
  },
  {
   "cell_type": "code",
   "execution_count": null,
   "metadata": {},
   "outputs": [],
   "source": [
    "nodes = np.hstack([net['a_node'], net['b_node']])\n",
    "counts = np.bincount(nodes)\n",
    "counts[graph.centroids] = 999"
   ]
  },
  {
   "cell_type": "code",
   "execution_count": null,
   "metadata": {},
   "outputs": [],
   "source": [
    "truth = (counts==2).astype(np.int)\n",
    "link_edge = truth[net['a_node']] + truth[net['b_node']]\n",
    "link_edge = net['link_id'][link_edge==1]"
   ]
  },
  {
   "cell_type": "code",
   "execution_count": null,
   "metadata": {},
   "outputs": [],
   "source": [
    "simplified_links = np.empty(net['link_id'].max() + 1)\n",
    "simplified_links.fill(-1)\n",
    "simplified_links = simplified_links.astype(np.int)\n",
    "\n",
    "slink_directions = np.zeros(net['link_id'].max() + 1)"
   ]
  },
  {
   "cell_type": "code",
   "execution_count": null,
   "metadata": {},
   "outputs": [],
   "source": [
    "slink = 0\n",
    "major_nodes = {}\n",
    "for pre_link in link_edge:\n",
    "    if simplified_links[pre_link] >= 0:\n",
    "        continue\n",
    "    \n",
    "    ab_dir = 1\n",
    "    ba_dir = 1\n",
    "    lidx = link_idx[pre_link]\n",
    "    a_node = net['a_node'][lidx]\n",
    "    b_node = net['b_node'][lidx]\n",
    "    direction = net['direction'][lidx]\n",
    "    \n",
    "    n = a_node if counts[a_node] == 2 else b_node\n",
    "    first_node = b_node if counts[a_node] == 2 else a_node\n",
    "    ab_dir = 0 if (first_node == a_node and direction < 0) or (first_node == b_node and direction > 0) else ab_dir\n",
    "    ba_dir = 0 if (first_node == a_node and direction > 0) or (first_node == b_node and direction < 0) else ba_dir\n",
    "    while counts[n] == 2:\n",
    "        if simplified_links[pre_link] >= 0:\n",
    "            raise Exception('How the heck did this happen?')\n",
    "        simplified_links[pre_link] = slink\n",
    "        for lnk in links_index[n]:\n",
    "            if lnk == pre_link:\n",
    "                continue\n",
    "            break\n",
    "        if lnk == pre_link:\n",
    "            raise Exception('How the heck did this happen again?')\n",
    "        pre_link = lnk\n",
    "        lidx = link_idx[pre_link]\n",
    "        a_node = net['a_node'][lidx]\n",
    "        b_node = net['b_node'][lidx]\n",
    "        direction = net['direction'][lidx]\n",
    "        ab_dir = 0 if (n == a_node and direction < 0) or (n == b_node and direction > 0) else ab_dir\n",
    "        ba_dir = 0 if (n == a_node and direction > 0) or (n == b_node and direction < 0) else ba_dir\n",
    "        n = net['a_node'][lidx] if n == net['b_node'][lidx] else net['b_node'][lidx]\n",
    "    \n",
    "    simplified_links[pre_link] = slink\n",
    "    \n",
    "    if ab_dir == 0:\n",
    "        slink_directions[slink] = -1 if ba_dir > 0 else -999\n",
    "    else:\n",
    "        slink_directions[slink] = 0 if ba_dir > 0 else 1\n",
    "    \n",
    "    last_node = b_node if counts[a_node] == 2 else a_node\n",
    "    major_nodes[slink] = [first_node, last_node]\n",
    "    slink += 1\n",
    "\n",
    "for link in net['link_id']:\n",
    "    if simplified_links[link] < 0:\n",
    "        simplified_links[link] = slink\n",
    "        slink += 1\n",
    "print((clock()-t)/60)"
   ]
  },
  {
   "cell_type": "code",
   "execution_count": null,
   "metadata": {},
   "outputs": [],
   "source": [
    "f'Original links: {graph.network.shape[0]}'"
   ]
  },
  {
   "cell_type": "code",
   "execution_count": null,
   "metadata": {},
   "outputs": [],
   "source": [
    "array = simplified_links[simplified_links>=0]\n",
    "test = np.bincount(array.astype(np.int))\n",
    "agg_link_id = np.where(test==max(test))\n",
    "original_node_ids = np.where(simplified_links==agg_link_id)"
   ]
  },
  {
   "cell_type": "code",
   "execution_count": null,
   "metadata": {},
   "outputs": [],
   "source": [
    "simplified_links[simplified_links>=0].shape[0] - slink"
   ]
  },
  {
   "cell_type": "code",
   "execution_count": null,
   "metadata": {},
   "outputs": [],
   "source": [
    "simplified_links[simplified_links>=0].shape[0]"
   ]
  },
  {
   "cell_type": "code",
   "execution_count": null,
   "metadata": {},
   "outputs": [],
   "source": [
    "from math import log\n",
    "q = 138244\n",
    "j = 300142\n",
    "print((q * log(q))/(j * log(j)))"
   ]
  },
  {
   "cell_type": "code",
   "execution_count": null,
   "metadata": {},
   "outputs": [],
   "source": [
    "min(slink_directions)"
   ]
  },
  {
   "cell_type": "code",
   "execution_count": null,
   "metadata": {},
   "outputs": [],
   "source": [
    "major_nodes[39]"
   ]
  },
  {
   "cell_type": "code",
   "execution_count": null,
   "metadata": {},
   "outputs": [],
   "source": [
    "np.argwhere(slink_directions<-2)"
   ]
  }
 ],
 "metadata": {
  "kernelspec": {
   "display_name": "Python 3",
   "language": "python",
   "name": "python3"
  },
  "language_info": {
   "codemirror_mode": {
    "name": "ipython",
    "version": 3
   },
   "file_extension": ".py",
   "mimetype": "text/x-python",
   "name": "python",
   "nbconvert_exporter": "python",
   "pygments_lexer": "ipython3",
   "version": "3.7.4"
  }
 },
 "nbformat": 4,
 "nbformat_minor": 1
}
