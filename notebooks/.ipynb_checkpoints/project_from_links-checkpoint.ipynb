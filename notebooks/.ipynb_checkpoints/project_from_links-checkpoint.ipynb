{
 "cells": [
  {
   "cell_type": "code",
   "execution_count": 1,
   "metadata": {},
   "outputs": [],
   "source": [
    "import sys\n",
    "sys.path.append('..')"
   ]
  },
  {
   "cell_type": "code",
   "execution_count": 2,
   "metadata": {},
   "outputs": [],
   "source": [
    "from uuid import uuid4\n",
    "from tempfile import gettempdir\n",
    "from os.path import join\n",
    "from aequilibrae import Project\n",
    "from shapely.geometry import LineString"
   ]
  },
  {
   "cell_type": "code",
   "execution_count": 3,
   "metadata": {},
   "outputs": [
    {
     "name": "stderr",
     "output_type": "stream",
     "text": [
      "..\\aequilibrae\\parameters.py:53: UserWarning: No pre-existing parameter file exists for this project. Will use default\n",
      "  warn('No pre-existing parameter file exists for this project. Will use default')\n"
     ]
    }
   ],
   "source": [
    "fldr = join(gettempdir(), uuid4().hex)\n",
    "project = Project()\n",
    "project.new(fldr)"
   ]
  },
  {
   "cell_type": "code",
   "execution_count": 4,
   "metadata": {},
   "outputs": [],
   "source": [
    "network = project.network\n",
    "ltypes = project.network.link_types\n",
    "modes = project.network.modes"
   ]
  },
  {
   "cell_type": "markdown",
   "metadata": {},
   "source": [
    "# Let's see what modes we already have in our model"
   ]
  },
  {
   "cell_type": "code",
   "execution_count": 5,
   "metadata": {},
   "outputs": [
    {
     "name": "stdout",
     "output_type": "stream",
     "text": [
      "b: bicycle\n",
      "c: car\n",
      "t: transit\n",
      "w: walk\n"
     ]
    }
   ],
   "source": [
    "for mode_id, mode in modes.all_modes().items():\n",
    "    print(f'{mode_id}: {mode.mode_name}')"
   ]
  },
  {
   "cell_type": "markdown",
   "metadata": {},
   "source": [
    "# Now let's see the link types"
   ]
  },
  {
   "cell_type": "code",
   "execution_count": 6,
   "metadata": {},
   "outputs": [
    {
     "name": "stdout",
     "output_type": "stream",
     "text": [
      "z: centroid_connector\n",
      "y: default\n"
     ]
    }
   ],
   "source": [
    "for type_id, link_type in ltypes.all_types().items():\n",
    "    print(f'{type_id}: {link_type.link_type}')    "
   ]
  },
  {
   "cell_type": "markdown",
   "metadata": {},
   "source": [
    "### Adding a link_type"
   ]
  },
  {
   "cell_type": "code",
   "execution_count": 7,
   "metadata": {},
   "outputs": [],
   "source": [
    "link_type = ltypes.new('a')\n",
    "link_type.link_type = 'arterial'\n",
    "link_type.lanes=2\n",
    "link_type.save()"
   ]
  },
  {
   "cell_type": "markdown",
   "metadata": {},
   "source": [
    "# Let's add links to this network"
   ]
  },
  {
   "cell_type": "code",
   "execution_count": 8,
   "metadata": {},
   "outputs": [],
   "source": [
    "links = network.links"
   ]
  },
  {
   "cell_type": "markdown",
   "metadata": {},
   "source": [
    "### Creating a single link"
   ]
  },
  {
   "cell_type": "code",
   "execution_count": 9,
   "metadata": {},
   "outputs": [
    {
     "name": "stdout",
     "output_type": "stream",
     "text": [
      "Our link id: 1\n"
     ]
    }
   ],
   "source": [
    "lnk = links.new()\n",
    "\n",
    "\n",
    "link_geo = LineString([(0,0), (1,1)])\n",
    "\n",
    "# Some fields are mandatory\n",
    "lnk.geometry = link_geo\n",
    "lnk.link_type='arterial'\n",
    "lnk.modes='bcw'\n",
    "\n",
    "# Let's say this link can only go in the BA direction (according to topology)\n",
    "lnk.direction=-1  \n",
    "\n",
    "\n",
    "# Some fields are not mandatory\n",
    "lnk.capacity_ba = 3200\n",
    "lnk.name='Example Street'\n",
    "\n",
    "# And save it\n",
    "lnk.save()\n",
    "\n",
    "print(f'Our link id: {lnk.link_id}')"
   ]
  },
  {
   "cell_type": "markdown",
   "metadata": {},
   "source": [
    "### Let's see what node_a/node_b were attributed to them"
   ]
  },
  {
   "cell_type": "code",
   "execution_count": 12,
   "metadata": {},
   "outputs": [
    {
     "name": "stdout",
     "output_type": "stream",
     "text": [
      "(2, 1)\n"
     ]
    }
   ],
   "source": [
    "# We need to get the link back from the database, so we refresh the cache\n",
    "links.refresh()\n",
    "\n",
    "lnk = links.get(1)\n",
    "\n",
    "print(f'({lnk.a_node}, {lnk.b_node})')"
   ]
  },
  {
   "cell_type": "markdown",
   "metadata": {},
   "source": [
    "### What if we had different numbering in mind for the nodes?"
   ]
  },
  {
   "cell_type": "code",
   "execution_count": 13,
   "metadata": {},
   "outputs": [],
   "source": [
    "nodes = project.network.nodes"
   ]
  },
  {
   "cell_type": "code",
   "execution_count": 17,
   "metadata": {},
   "outputs": [],
   "source": [
    "nd = nodes.get(1)\n",
    "nd.renumber(17)\n",
    "\n",
    "nd = nodes.get(2)\n",
    "nd.renumber(19)\n"
   ]
  },
  {
   "cell_type": "markdown",
   "metadata": {},
   "source": [
    "### Did it work?"
   ]
  },
  {
   "cell_type": "code",
   "execution_count": 18,
   "metadata": {},
   "outputs": [
    {
     "name": "stdout",
     "output_type": "stream",
     "text": [
      "(19, 17)\n"
     ]
    }
   ],
   "source": [
    "links.refresh()\n",
    "\n",
    "lnk = links.get(1)\n",
    "\n",
    "print(f'({lnk.a_node}, {lnk.b_node})')"
   ]
  },
  {
   "cell_type": "markdown",
   "metadata": {},
   "source": [
    "# YAY!!!"
   ]
  }
 ],
 "metadata": {
  "kernelspec": {
   "display_name": "Python 3",
   "language": "python",
   "name": "python3"
  },
  "language_info": {
   "codemirror_mode": {
    "name": "ipython",
    "version": 3
   },
   "file_extension": ".py",
   "mimetype": "text/x-python",
   "name": "python",
   "nbconvert_exporter": "python",
   "pygments_lexer": "ipython3",
   "version": "3.7.9"
  }
 },
 "nbformat": 4,
 "nbformat_minor": 4
}
