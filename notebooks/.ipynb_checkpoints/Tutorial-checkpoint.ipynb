{
 "cells": [
  {
   "cell_type": "code",
   "execution_count": 2,
   "metadata": {},
   "outputs": [],
   "source": [
    "import sys\n",
    "sys.path.append('..')"
   ]
  },
  {
   "cell_type": "code",
   "execution_count": 3,
   "metadata": {},
   "outputs": [
    {
     "name": "stderr",
     "output_type": "stream",
     "text": [
      "..\\aequilibrae\\parameters.py:51: UserWarning: No pre-existing parameter file exists for this project. Will use default\n",
      "  warn('No pre-existing parameter file exists for this project. Will use default')\n",
      "..\\aequilibrae\\parameters.py:51: UserWarning: No pre-existing parameter file exists for this project. Will use default\n",
      "  warn('No pre-existing parameter file exists for this project. Will use default')\n"
     ]
    }
   ],
   "source": [
    "import aequilibrae\n",
    "import os\n",
    "import sys\n",
    "import numpy as np\n",
    "import pandas as pd\n",
    "import openmatrix as omx\n",
    "from aequilibrae import Project\n",
    "from aequilibrae.paths import TrafficAssignment\n",
    "from aequilibrae.paths import TrafficClass\n",
    "from aequilibrae.matrix import AequilibraeMatrix, AequilibraeData"
   ]
  },
  {
   "cell_type": "code",
   "execution_count": 4,
   "metadata": {},
   "outputs": [
    {
     "name": "stderr",
     "output_type": "stream",
     "text": [
      "..\\aequilibrae\\parameters.py:51: UserWarning: No pre-existing parameter file exists for this project. Will use default\n",
      "  warn('No pre-existing parameter file exists for this project. Will use default')\n"
     ]
    }
   ],
   "source": [
    "proj = Project()\n",
    "proj.open('D:/Tutorial')"
   ]
  },
  {
   "cell_type": "code",
   "execution_count": 5,
   "metadata": {
    "scrolled": true
   },
   "outputs": [
    {
     "name": "stderr",
     "output_type": "stream",
     "text": [
      "..\\aequilibrae\\project\\network\\network.py:259: UserWarning: Fields were removed from Graph for being non-numeric: modes,link_type,name,lanes_ab,lanes_ba,speed_ab,speed_ba,Hierarquia\n",
      "  warn(f'Fields were removed from Graph for being non-numeric: {\",\".join(removed_fields)}')\n",
      "..\\aequilibrae\\paths\\graph.py:360: UserWarning: Field osm_id has at least one NaN value.  Your computation may be compromised\n",
      "  warn(f'Field {i} has at least one NaN value.  Your computation may be compromised')\n",
      "..\\aequilibrae\\paths\\graph.py:360: UserWarning: Field FreeFlowSpeed has at least one NaN value.  Your computation may be compromised\n",
      "  warn(f'Field {i} has at least one NaN value.  Your computation may be compromised')\n",
      "..\\aequilibrae\\paths\\graph.py:360: UserWarning: Field CapNum has at least one NaN value.  Your computation may be compromised\n",
      "  warn(f'Field {i} has at least one NaN value.  Your computation may be compromised')\n",
      "..\\aequilibrae\\paths\\graph.py:360: UserWarning: Field Alpha has at least one NaN value.  Your computation may be compromised\n",
      "  warn(f'Field {i} has at least one NaN value.  Your computation may be compromised')\n",
      "..\\aequilibrae\\paths\\graph.py:360: UserWarning: Field Beta has at least one NaN value.  Your computation may be compromised\n",
      "  warn(f'Field {i} has at least one NaN value.  Your computation may be compromised')\n",
      "..\\aequilibrae\\paths\\graph.py:360: UserWarning: Field Sarandi has at least one NaN value.  Your computation may be compromised\n",
      "  warn(f'Field {i} has at least one NaN value.  Your computation may be compromised')\n",
      "..\\aequilibrae\\paths\\graph.py:360: UserWarning: Field HierarquiaNum has at least one NaN value.  Your computation may be compromised\n",
      "  warn(f'Field {i} has at least one NaN value.  Your computation may be compromised')\n",
      "..\\aequilibrae\\paths\\graph.py:360: UserWarning: Field Faixas has at least one NaN value.  Your computation may be compromised\n",
      "  warn(f'Field {i} has at least one NaN value.  Your computation may be compromised')\n",
      "..\\aequilibrae\\paths\\graph.py:360: UserWarning: Field Tipologia has at least one NaN value.  Your computation may be compromised\n",
      "  warn(f'Field {i} has at least one NaN value.  Your computation may be compromised')\n"
     ]
    }
   ],
   "source": [
    "network = proj.network\n",
    "network.build_graphs()"
   ]
  },
  {
   "cell_type": "code",
   "execution_count": null,
   "metadata": {},
   "outputs": [],
   "source": [
    "mat_car = AequilibraeMatrix()\n",
    "mat_car.load('D:/mormilho/MatODPico.aem')\n",
    "mat_car.computational_view(['carro'])"
   ]
  },
  {
   "cell_type": "code",
   "execution_count": null,
   "metadata": {},
   "outputs": [],
   "source": [
    "mat_moto = AequilibraeMatrix()\n",
    "mat_moto.load('D:/mormilho/MatODPico.aem')\n",
    "mat_moto.computational_view(['moto'])"
   ]
  },
  {
   "cell_type": "code",
   "execution_count": null,
   "metadata": {},
   "outputs": [],
   "source": [
    "car = TrafficClass(network.graphs['c'],mat_car)\n",
    "car.set_pce(1.0)\n",
    "moto = TrafficClass(network.graphs['m'],mat_moto)\n",
    "moto.set_pce(0.5)"
   ]
  },
  {
   "cell_type": "code",
   "execution_count": null,
   "metadata": {
    "scrolled": true
   },
   "outputs": [],
   "source": [
    "np.sum(mat_moto.moto, axis=1)"
   ]
  },
  {
   "cell_type": "code",
   "execution_count": null,
   "metadata": {},
   "outputs": [],
   "source": [
    "mat_moto.index"
   ]
  },
  {
   "cell_type": "code",
   "execution_count": null,
   "metadata": {},
   "outputs": [],
   "source": [
    "assig = TrafficAssignment()\n",
    "assig.set_classes([car, moto])\n",
    "assig.set_vdf(\"BPR\")  # This is not case-sensitive # Then we set the volume delay function\n",
    "\n",
    "assig.set_vdf_parameters({\"alpha\": 0.15, \"beta\": 4.0}) # And its parameters\n",
    "assig.set_capacity_field(\"capacity\") # The capacity and free flow travel times as they exist in the graph\n",
    "assig.set_time_field(\"FreeFlowTime\")\n",
    "\n",
    "# And the algorithm we want to use to assign\n",
    "assig.set_algorithm('bfw')\n",
    "\n",
    "# since I haven't checked the parameters file, let's make sure convergence criteria is good\n",
    "assig.max_iter = 1000\n",
    "assig.rgap_target = 0.000001\n",
    "\n",
    "assig.execute() # we then execute the assignment"
   ]
  },
  {
   "cell_type": "code",
   "execution_count": null,
   "metadata": {},
   "outputs": [],
   "source": [
    "str(assig.assignment.convergence_report)"
   ]
  },
  {
   "cell_type": "code",
   "execution_count": null,
   "metadata": {},
   "outputs": [],
   "source": [
    "assig.save_results('test2')"
   ]
  },
  {
   "cell_type": "code",
   "execution_count": null,
   "metadata": {},
   "outputs": [],
   "source": [
    "# cdata = car.results.get_load_results()\n",
    "# mdata  = moto.results.get_load_results()\n",
    "# tot_flow = assig.assignment.fw_total_flow\n",
    "# voc = assig.assignment.fw_total_flow / assig.capacity"
   ]
  },
  {
   "cell_type": "code",
   "execution_count": null,
   "metadata": {},
   "outputs": [],
   "source": [
    "# entries = cdata.data.shape[0]\n",
    "# fields = ['Congested_Time_AB', 'Congested_Time_BA', 'VOC_AB', 'VOC_BA', 'tot_pce_AB', 'tot_pce_BA']\n",
    "# types = [np.float64] * 6\n",
    "# agg = AequilibraeData()\n",
    "# agg.create_empty(memory_mode=True, entries=entries, field_names=fields, data_types=types)\n",
    "# agg.data.fill(np.nan)\n",
    "# agg.index[:] = cdata.data.index[:]"
   ]
  },
  {
   "cell_type": "code",
   "execution_count": null,
   "metadata": {},
   "outputs": [],
   "source": [
    "# link_ids = moto.results.lids\n",
    "# ABs = moto.results.direcs > 0\n",
    "# BAs = moto.results.direcs < 0\n",
    "\n",
    "\n",
    "# indexing = np.zeros(int(link_ids.max()) + 1, np.uint64)\n",
    "# indexing[agg.index[:]] = np.arange(entries)\n",
    "\n",
    "# # Indices of links BA and AB\n",
    "# ab_ids = indexing[link_ids[ABs]]\n",
    "# ba_ids = indexing[link_ids[BAs]]\n",
    "\n",
    "# agg.data['Congested_Time_AB'][ab_ids] = np.nan_to_num(assig.congested_time[ABs])\n",
    "# agg.data['Congested_Time_BA'][ba_ids] = np.nan_to_num(assig.congested_time[BAs])\n",
    "\n",
    "# agg.data['VOC_AB'][ab_ids] = np.nan_to_num(voc[ABs])\n",
    "# agg.data['VOC_BA'][ba_ids] = np.nan_to_num(voc[BAs])\n",
    "\n",
    "# agg.data['tot_pce_AB'][ab_ids] = np.nan_to_num(tot_flow[ABs])\n",
    "# agg.data['tot_pce_BA'][ba_ids] = np.nan_to_num(tot_flow[BAs])"
   ]
  },
  {
   "cell_type": "code",
   "execution_count": null,
   "metadata": {},
   "outputs": [],
   "source": []
  }
 ],
 "metadata": {
  "kernelspec": {
   "display_name": "Python 3",
   "language": "python",
   "name": "python3"
  },
  "language_info": {
   "codemirror_mode": {
    "name": "ipython",
    "version": 3
   },
   "file_extension": ".py",
   "mimetype": "text/x-python",
   "name": "python",
   "nbconvert_exporter": "python",
   "pygments_lexer": "ipython3",
   "version": "3.7.4"
  }
 },
 "nbformat": 4,
 "nbformat_minor": 4
}
