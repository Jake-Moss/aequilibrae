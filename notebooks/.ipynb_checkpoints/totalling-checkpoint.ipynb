{
 "cells": [
  {
   "cell_type": "code",
   "execution_count": 1,
   "id": "0324cb35-3981-4d5a-a891-15435f52c069",
   "metadata": {
    "tags": []
   },
   "outputs": [],
   "source": [
    "import sys\n",
    "sys.path.append('..')"
   ]
  },
  {
   "cell_type": "code",
   "execution_count": 8,
   "id": "cb380159",
   "metadata": {},
   "outputs": [],
   "source": [
    "from aequilibrae.matrix import AequilibraeMatrix\n",
    "import numpy as np"
   ]
  },
  {
   "cell_type": "code",
   "execution_count": 3,
   "id": "94a0aca5-4f9f-4c46-b55f-b19dd8f5284b",
   "metadata": {},
   "outputs": [],
   "source": [
    "mat = AequilibraeMatrix()\n",
    "mat.load('D:/distance_skim.omx')"
   ]
  },
  {
   "cell_type": "code",
   "execution_count": 4,
   "id": "b999efd5-491d-4194-b3c3-6c267350fe40",
   "metadata": {},
   "outputs": [],
   "source": [
    "mat.computational_view()"
   ]
  },
  {
   "cell_type": "code",
   "execution_count": 18,
   "id": "3497d3fa-ed3f-4ec6-8467-bce863bec98d",
   "metadata": {},
   "outputs": [
    {
     "data": {
      "text/plain": [
       "5389509583715928.0"
      ]
     },
     "execution_count": 18,
     "metadata": {},
     "output_type": "execute_result"
    }
   ],
   "source": [
    "np.nansum(mat.matrix_view)"
   ]
  },
  {
   "cell_type": "code",
   "execution_count": 6,
   "id": "e4fc2a0a-b684-4491-83d2-67f02458cf5b",
   "metadata": {},
   "outputs": [],
   "source": [
    "mat2 = AequilibraeMatrix()"
   ]
  },
  {
   "cell_type": "code",
   "execution_count": 10,
   "id": "d75729f7-35fb-40f6-9bc9-26ea9c0a4679",
   "metadata": {},
   "outputs": [],
   "source": [
    "mat2.create_empty(file_name='D:/mat.aem',\n",
    "                         zones=mat.zones,\n",
    "                         matrix_names= mat.names,\n",
    "                         data_type=np.float32)"
   ]
  },
  {
   "cell_type": "code",
   "execution_count": 14,
   "id": "0f9fa3e5-31fe-40e7-b392-25f7326adcf2",
   "metadata": {},
   "outputs": [],
   "source": [
    "mat2.distance[:, :] = mat.matrix_view[:, :]"
   ]
  },
  {
   "cell_type": "code",
   "execution_count": 22,
   "id": "3772e4b3-845a-4bcd-ba4a-796bbca69ecb",
   "metadata": {},
   "outputs": [],
   "source": [
    "mat2.index[:] = mat.index[:]"
   ]
  },
  {
   "cell_type": "code",
   "execution_count": 19,
   "id": "d5b415b2-6d0c-4d32-b0c3-c0cb315ec360",
   "metadata": {},
   "outputs": [
    {
     "data": {
      "text/plain": [
       "5389229400000000.0"
      ]
     },
     "execution_count": 19,
     "metadata": {},
     "output_type": "execute_result"
    }
   ],
   "source": [
    "np.nansum(mat2.distance)"
   ]
  },
  {
   "cell_type": "code",
   "execution_count": 24,
   "id": "6ff2a3f0-6c47-44b6-8272-a44595b2b65d",
   "metadata": {},
   "outputs": [],
   "source": [
    "mat2.save()"
   ]
  }
 ],
 "metadata": {
  "kernelspec": {
   "display_name": "Python 3",
   "language": "python",
   "name": "python3"
  },
  "language_info": {
   "codemirror_mode": {
    "name": "ipython",
    "version": 3
   },
   "file_extension": ".py",
   "mimetype": "text/x-python",
   "name": "python",
   "nbconvert_exporter": "python",
   "pygments_lexer": "ipython3",
   "version": "3.8.8"
  }
 },
 "nbformat": 4,
 "nbformat_minor": 5
}
