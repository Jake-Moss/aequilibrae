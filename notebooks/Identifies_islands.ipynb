{
 "cells": [
  {
   "cell_type": "code",
   "execution_count": 2,
   "id": "9c8c9f9c-bea8-4490-9f52-59d35d775dc2",
   "metadata": {},
   "outputs": [],
   "source": [
    "import sys\n",
    "sys.path.append('..')"
   ]
  },
  {
   "cell_type": "code",
   "execution_count": 3,
   "id": "7f836b0d-3478-45bc-93f8-404e582ee92e",
   "metadata": {},
   "outputs": [
    {
     "name": "stderr",
     "output_type": "stream",
     "text": [
      "..\\aequilibrae\\__init__.py:16: UserWarning: Failed to import compiled modules. ('DLL load failed while importing AoN: The parameter is incorrect.',)\n",
      "  warnings.warn(f\"Failed to import compiled modules. {e.args}\")\n"
     ]
    },
    {
     "ename": "ImportError",
     "evalue": "cannot import name 'Project' from 'aequilibrae' (..\\aequilibrae\\__init__.py)",
     "output_type": "error",
     "traceback": [
      "\u001b[1;31m---------------------------------------------------------------------------\u001b[0m",
      "\u001b[1;31mImportError\u001b[0m                               Traceback (most recent call last)",
      "\u001b[1;32m<ipython-input-3-e1de2cfc547e>\u001b[0m in \u001b[0;36m<module>\u001b[1;34m\u001b[0m\n\u001b[1;32m----> 1\u001b[1;33m \u001b[1;32mfrom\u001b[0m \u001b[0maequilibrae\u001b[0m \u001b[1;32mimport\u001b[0m \u001b[0mProject\u001b[0m\u001b[1;33m\u001b[0m\u001b[1;33m\u001b[0m\u001b[0m\n\u001b[0m",
      "\u001b[1;31mImportError\u001b[0m: cannot import name 'Project' from 'aequilibrae' (..\\aequilibrae\\__init__.py)"
     ]
    }
   ],
   "source": [
    "from aequilibrae import Project"
   ]
  },
  {
   "cell_type": "code",
   "execution_count": null,
   "id": "43e1f52c-c2f8-4cc0-a911-be5f043c7a32",
   "metadata": {},
   "outputs": [],
   "source": [
    "proj"
   ]
  }
 ],
 "metadata": {
  "kernelspec": {
   "display_name": "Python 3",
   "language": "python",
   "name": "python3"
  },
  "language_info": {
   "codemirror_mode": {
    "name": "ipython",
    "version": 3
   },
   "file_extension": ".py",
   "mimetype": "text/x-python",
   "name": "python",
   "nbconvert_exporter": "python",
   "pygments_lexer": "ipython3",
   "version": "3.8.8"
  }
 },
 "nbformat": 4,
 "nbformat_minor": 5
}
