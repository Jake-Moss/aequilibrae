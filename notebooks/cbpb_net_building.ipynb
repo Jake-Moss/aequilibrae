{
 "cells": [
  {
   "cell_type": "code",
   "execution_count": 3,
   "metadata": {},
   "outputs": [],
   "source": [
    "import sys\n",
    "sys.path.append('..')"
   ]
  },
  {
   "cell_type": "markdown",
   "metadata": {},
   "source": [
    "# Imports\n",
    "\n"
   ]
  },
  {
   "cell_type": "code",
   "execution_count": 12,
   "metadata": {},
   "outputs": [],
   "source": [
    "from uuid import uuid4\n",
    "from tempfile import gettempdir\n",
    "from os.path import join\n",
    "from aequilibrae.project import Project\n",
    "from aequilibrae.parameters import Parameters\n",
    "import shapely.wkb\n",
    "from shapely.geometry import Point"
   ]
  },
  {
   "cell_type": "markdown",
   "metadata": {},
   "source": [
    "We create an empty project on an arbitrary folder\n",
    "\n"
   ]
  },
  {
   "cell_type": "code",
   "execution_count": 9,
   "metadata": {},
   "outputs": [],
   "source": [
    "fldr = '/workspaces/drive_d/wb/vietnam2'\n",
    "project = Project()"
   ]
  },
  {
   "cell_type": "markdown",
   "metadata": {},
   "source": [
    "Now we can download the network from any place in the world (as long as you have memory for all the download\n",
    "and data wrangling that will be done)\n",
    "\n"
   ]
  },
  {
   "cell_type": "code",
   "execution_count": 10,
   "metadata": {},
   "outputs": [],
   "source": [
    "project.new(fldr)"
   ]
  },
  {
   "cell_type": "code",
   "execution_count": 13,
   "metadata": {},
   "outputs": [],
   "source": [
    "extra_fields = [\n",
    "    {\n",
    "        \"bridge\": {\n",
    "            \"description\": \"bridge flag\",\n",
    "            \"osm_source\": \"bridge\",\n",
    "            \"type\": \"text\",\n",
    "        }\n",
    "    },\n",
    "    {\n",
    "        \"tunnel\": {\n",
    "            \"description\": \"tunnel flag\",\n",
    "            \"osm_source\": \"tunnel\",\n",
    "            \"type\": \"text\",\n",
    "        }\n",
    "    },\n",
    "    {\"toll\": {\"description\": \"toll flag\", \"osm_source\": \"toll\", \"type\": \"text\"}},\n",
    "    {\n",
    "        \"surface\": {\n",
    "            \"description\": \"pavement surface\",\n",
    "            \"osm_source\": \"surface\",\n",
    "            \"type\": \"text\",\n",
    "        }\n",
    "    },\n",
    "]\n",
    "par = Parameters()\n",
    "par.parameters[\"network\"][\"links\"][\"fields\"][\"one-way\"].extend(extra_fields)\n",
    "par.write_back()"
   ]
  },
  {
   "cell_type": "code",
   "execution_count": 14,
   "metadata": {},
   "outputs": [],
   "source": [
    "project.network.create_from_osm(place_name='Vietnam')"
   ]
  }
 ],
 "metadata": {
  "kernelspec": {
   "display_name": "Python 3 (ipykernel)",
   "language": "python",
   "name": "python3"
  },
  "language_info": {
   "codemirror_mode": {
    "name": "ipython",
    "version": 3
   },
   "file_extension": ".py",
   "mimetype": "text/x-python",
   "name": "python",
   "nbconvert_exporter": "python",
   "pygments_lexer": "ipython3",
   "version": "3.9.12"
  }
 },
 "nbformat": 4,
 "nbformat_minor": 4
}
