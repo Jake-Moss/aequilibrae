{
 "cells": [
  {
   "cell_type": "code",
   "execution_count": null,
   "metadata": {},
   "outputs": [],
   "source": [
    "import sys\n",
    "sys.path.append('..')"
   ]
  },
  {
   "cell_type": "code",
   "execution_count": 2,
   "metadata": {},
   "outputs": [
    {
     "name": "stderr",
     "output_type": "stream",
     "text": [
      "..\\aequilibrae\\parameters.py:51: UserWarning: No pre-existing parameter file exists for this project. Will use default\n",
      "  warn('No pre-existing parameter file exists for this project. Will use default')\n",
      "..\\aequilibrae\\parameters.py:51: UserWarning: No pre-existing parameter file exists for this project. Will use default\n",
      "  warn('No pre-existing parameter file exists for this project. Will use default')\n"
     ]
    }
   ],
   "source": [
    "import aequilibrae\n",
    "import os\n",
    "from os.path import join\n",
    "import sys\n",
    "import numpy as np\n",
    "import pandas as pd\n",
    "import openmatrix as omx\n",
    "from aequilibrae import Project\n",
    "from aequilibrae.paths import TrafficAssignment\n",
    "from aequilibrae.paths import TrafficClass\n",
    "from aequilibrae.matrix import AequilibraeMatrix, AequilibraeData"
   ]
  },
  {
   "cell_type": "code",
   "execution_count": 3,
   "metadata": {},
   "outputs": [],
   "source": [
    "proj_folder = 'D:/release/Sample models/Chicago_2020_02_15/1_project'\n",
    "proj = Project()\n",
    "proj.open(proj_folder)"
   ]
  },
  {
   "cell_type": "code",
   "execution_count": 4,
   "metadata": {},
   "outputs": [],
   "source": [
    "from aequilibrae.paths import PathResults"
   ]
  },
  {
   "cell_type": "code",
   "execution_count": 8,
   "metadata": {},
   "outputs": [],
   "source": [
    "network = proj.network\n",
    "network.build_graphs()\n",
    "\n",
    "res = PathResults()\n",
    "car_graph = network.graphs['c']\n",
    "car_graph.set_graph('distance')\n",
    "res.prepare(car_graph)\n"
   ]
  },
  {
   "cell_type": "code",
   "execution_count": 21,
   "metadata": {},
   "outputs": [],
   "source": [
    "paths = []\n",
    "for j in range(1, 1789):\n",
    "    res.compute_path(j, 1)\n",
    "    for i in range(1, 1789):\n",
    "        paths.append(res.path.shape[0])\n",
    "        res.update_trace(i)"
   ]
  },
  {
   "cell_type": "code",
   "execution_count": 23,
   "metadata": {},
   "outputs": [
    {
     "data": {
      "text/plain": [
       "237"
      ]
     },
     "execution_count": 23,
     "metadata": {},
     "output_type": "execute_result"
    }
   ],
   "source": [
    "max(paths)"
   ]
  },
  {
   "cell_type": "code",
   "execution_count": null,
   "metadata": {},
   "outputs": [],
   "source": []
  },
  {
   "cell_type": "code",
   "execution_count": null,
   "metadata": {
    "scrolled": true
   },
   "outputs": [],
   "source": [
    "network = proj.network\n",
    "network.build_graphs()"
   ]
  },
  {
   "cell_type": "code",
   "execution_count": null,
   "metadata": {},
   "outputs": [],
   "source": [
    "mat_car = AequilibraeMatrix()\n",
    "mat_car.load(join(proj_folder, 'matrices','MatODPico.aem'))\n",
    "mat_car.computational_view(['carro'])"
   ]
  },
  {
   "cell_type": "code",
   "execution_count": null,
   "metadata": {},
   "outputs": [],
   "source": [
    "mat_moto = AequilibraeMatrix()\n",
    "mat_moto.load(join(proj_folder, 'matrices','MatODPico.aem'))\n",
    "mat_moto.computational_view(['moto'])"
   ]
  },
  {
   "cell_type": "code",
   "execution_count": null,
   "metadata": {},
   "outputs": [],
   "source": [
    "car = TrafficClass(network.graphs['c'],mat_car)\n",
    "car.set_pce(1.0)\n",
    "moto = TrafficClass(network.graphs['m'],mat_moto)\n",
    "moto.set_pce(0.5)"
   ]
  },
  {
   "cell_type": "code",
   "execution_count": null,
   "metadata": {},
   "outputs": [],
   "source": [
    "assig = TrafficAssignment()\n",
    "assig.set_classes([car, moto])\n",
    "assig.set_vdf(\"BPR\")  # This is not case-sensitive # Then we set the volume delay function\n",
    "\n",
    "assig.set_vdf_parameters({\"alpha\": 0.15, \"beta\": 4.0}) # And its parameters\n",
    "assig.set_capacity_field(\"capacity\") # The capacity and free flow travel times as they exist in the graph\n",
    "assig.set_time_field(\"FreeFlowTime\")\n",
    "\n",
    "# And the algorithm we want to use to assign\n",
    "assig.set_algorithm('bfw')\n",
    "\n",
    "# since I haven't checked the parameters file, let's make sure convergence criteria is good\n",
    "assig.max_iter = 1000\n",
    "assig.rgap_target = 0.001\n",
    "\n",
    "assig.execute() # we then execute the assignment"
   ]
  },
  {
   "cell_type": "code",
   "execution_count": null,
   "metadata": {},
   "outputs": [],
   "source": [
    "volumes = assig.results()"
   ]
  },
  {
   "cell_type": "code",
   "execution_count": null,
   "metadata": {},
   "outputs": [],
   "source": [
    "volumes.head()"
   ]
  },
  {
   "cell_type": "code",
   "execution_count": null,
   "metadata": {},
   "outputs": [],
   "source": [
    "assig.assignment.convergence_report"
   ]
  },
  {
   "cell_type": "code",
   "execution_count": null,
   "metadata": {},
   "outputs": [],
   "source": [
    "assig.save_results('tutorial_ime')"
   ]
  },
  {
   "cell_type": "code",
   "execution_count": null,
   "metadata": {},
   "outputs": [],
   "source": []
  }
 ],
 "metadata": {
  "kernelspec": {
   "display_name": "Python 3",
   "language": "python",
   "name": "python3"
  },
  "language_info": {
   "codemirror_mode": {
    "name": "ipython",
    "version": 3
   },
   "file_extension": ".py",
   "mimetype": "text/x-python",
   "name": "python",
   "nbconvert_exporter": "python",
   "pygments_lexer": "ipython3",
   "version": "3.7.4"
  }
 },
 "nbformat": 4,
 "nbformat_minor": 4
}
