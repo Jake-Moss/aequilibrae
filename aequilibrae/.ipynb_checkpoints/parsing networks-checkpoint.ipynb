{
 "cells": [
  {
   "cell_type": "code",
   "execution_count": 1,
   "metadata": {},
   "outputs": [],
   "source": [
    "import aequilibrae\n",
    "import os\n",
    "import sys\n",
    "import numpy as np\n",
    "import pandas as pd\n",
    "import openmatrix as omx\n",
    "from aequilibrae.matrix import AequilibraeMatrix\n",
    "from aequilibrae.paths import Graph"
   ]
  },
  {
   "cell_type": "code",
   "execution_count": 6,
   "metadata": {},
   "outputs": [],
   "source": [
    "root = 'D:\\src\\TransportationNetworks'"
   ]
  },
  {
   "cell_type": "code",
   "execution_count": 8,
   "metadata": {},
   "outputs": [],
   "source": [
    "folders = [x for x in os.listdir(root)[1:] if os.path.isdir(os.path.join(root, x))]"
   ]
  },
  {
   "cell_type": "code",
   "execution_count": 20,
   "metadata": {
    "code_folding": []
   },
   "outputs": [],
   "source": [
    "def import_matrix(matfile, do_omx=True, do_aem=True):\n",
    "    f = open(matfile, 'r')\n",
    "    all_rows = f.read()\n",
    "    blocks = all_rows.split('Origin')[1:]\n",
    "    matrix = {}\n",
    "    for k in range(len(blocks)):\n",
    "        orig = blocks[k].split('\\n')\n",
    "        dests = orig[1:]\n",
    "        orig=int(orig[0])\n",
    "\n",
    "        d = [eval('{'+a.replace(';',',').replace(' ','') +'}') for a in dests]\n",
    "        destinations = {}\n",
    "        for i in d:\n",
    "            destinations = {**destinations, **i}\n",
    "        matrix[orig] = destinations\n",
    "    zones = max(matrix.keys())\n",
    "    mat = np.zeros((zones, zones))\n",
    "    for i in range(zones):\n",
    "        for j in range(zones):\n",
    "            mat[i, j] = matrix[i+1].get(j+1,0)\n",
    "\n",
    "    index = np.arange(zones) + 1\n",
    "    \n",
    "    if do_omx:\n",
    "        myfile = omx.open_file('demand.omx','w')\n",
    "        myfile['matrix'] = mat\n",
    "        myfile.create_mapping('taz', index)\n",
    "        myfile.close()\n",
    "\n",
    "    if do_aem:\n",
    "        aem = AequilibraeMatrix()\n",
    "\n",
    "        kwargs = {'file_name': 'demand.aem',\n",
    "                  'zones': zones,\n",
    "                  'matrix_names': ['matrix']}\n",
    "\n",
    "        aem.create_empty(**kwargs)\n",
    "        aem.matrix['matrix'][:,:] = mat[:,:]\n",
    "        aem.index[:] = index[:]\n",
    "        aem.close()"
   ]
  },
  {
   "cell_type": "code",
   "execution_count": 22,
   "metadata": {},
   "outputs": [
    {
     "name": "stdout",
     "output_type": "stream",
     "text": [
      "ANAHEIM\n",
      "    trips\n",
      "    trips\n"
     ]
    },
    {
     "ename": "UnicodeDecodeError",
     "evalue": "'charmap' codec can't decode byte 0x9d in position 7635: character maps to <undefined>",
     "output_type": "error",
     "traceback": [
      "\u001b[1;31m---------------------------------------------------------------------------\u001b[0m",
      "\u001b[1;31mUnicodeDecodeError\u001b[0m                        Traceback (most recent call last)",
      "\u001b[1;32m<ipython-input-22-5216702b03a1>\u001b[0m in \u001b[0;36m<module>\u001b[1;34m\u001b[0m\n\u001b[0;32m      8\u001b[0m         \u001b[1;32mif\u001b[0m \u001b[1;34m'TRIPS'\u001b[0m \u001b[1;32min\u001b[0m \u001b[0mi\u001b[0m\u001b[1;33m.\u001b[0m\u001b[0mupper\u001b[0m\u001b[1;33m(\u001b[0m\u001b[1;33m)\u001b[0m\u001b[1;33m:\u001b[0m\u001b[1;33m\u001b[0m\u001b[1;33m\u001b[0m\u001b[0m\n\u001b[0;32m      9\u001b[0m             \u001b[0mprint\u001b[0m\u001b[1;33m(\u001b[0m\u001b[1;34m'    trips'\u001b[0m\u001b[1;33m)\u001b[0m\u001b[1;33m\u001b[0m\u001b[1;33m\u001b[0m\u001b[0m\n\u001b[1;32m---> 10\u001b[1;33m             \u001b[0mimport_matrix\u001b[0m\u001b[1;33m(\u001b[0m\u001b[0mi\u001b[0m\u001b[1;33m)\u001b[0m\u001b[1;33m\u001b[0m\u001b[1;33m\u001b[0m\u001b[0m\n\u001b[0m",
      "\u001b[1;32m<ipython-input-20-eca44961b807>\u001b[0m in \u001b[0;36mimport_matrix\u001b[1;34m(matfile, do_omx, do_aem)\u001b[0m\n\u001b[0;32m      1\u001b[0m \u001b[1;32mdef\u001b[0m \u001b[0mimport_matrix\u001b[0m\u001b[1;33m(\u001b[0m\u001b[0mmatfile\u001b[0m\u001b[1;33m,\u001b[0m \u001b[0mdo_omx\u001b[0m\u001b[1;33m=\u001b[0m\u001b[1;32mTrue\u001b[0m\u001b[1;33m,\u001b[0m \u001b[0mdo_aem\u001b[0m\u001b[1;33m=\u001b[0m\u001b[1;32mTrue\u001b[0m\u001b[1;33m)\u001b[0m\u001b[1;33m:\u001b[0m\u001b[1;33m\u001b[0m\u001b[1;33m\u001b[0m\u001b[0m\n\u001b[0;32m      2\u001b[0m     \u001b[0mf\u001b[0m \u001b[1;33m=\u001b[0m \u001b[0mopen\u001b[0m\u001b[1;33m(\u001b[0m\u001b[0mmatfile\u001b[0m\u001b[1;33m,\u001b[0m \u001b[1;34m'r'\u001b[0m\u001b[1;33m)\u001b[0m\u001b[1;33m\u001b[0m\u001b[1;33m\u001b[0m\u001b[0m\n\u001b[1;32m----> 3\u001b[1;33m     \u001b[0mall_rows\u001b[0m \u001b[1;33m=\u001b[0m \u001b[0mf\u001b[0m\u001b[1;33m.\u001b[0m\u001b[0mread\u001b[0m\u001b[1;33m(\u001b[0m\u001b[1;33m)\u001b[0m\u001b[1;33m\u001b[0m\u001b[1;33m\u001b[0m\u001b[0m\n\u001b[0m\u001b[0;32m      4\u001b[0m     \u001b[0mblocks\u001b[0m \u001b[1;33m=\u001b[0m \u001b[0mall_rows\u001b[0m\u001b[1;33m.\u001b[0m\u001b[0msplit\u001b[0m\u001b[1;33m(\u001b[0m\u001b[1;34m'Origin'\u001b[0m\u001b[1;33m)\u001b[0m\u001b[1;33m[\u001b[0m\u001b[1;36m1\u001b[0m\u001b[1;33m:\u001b[0m\u001b[1;33m]\u001b[0m\u001b[1;33m\u001b[0m\u001b[1;33m\u001b[0m\u001b[0m\n\u001b[0;32m      5\u001b[0m     \u001b[0mmatrix\u001b[0m \u001b[1;33m=\u001b[0m \u001b[1;33m{\u001b[0m\u001b[1;33m}\u001b[0m\u001b[1;33m\u001b[0m\u001b[1;33m\u001b[0m\u001b[0m\n",
      "\u001b[1;32mc:\\users\\pedro\\.virtualenvs\\aequilibrae-zvti-vm1\\lib\\encodings\\cp1252.py\u001b[0m in \u001b[0;36mdecode\u001b[1;34m(self, input, final)\u001b[0m\n\u001b[0;32m     21\u001b[0m \u001b[1;32mclass\u001b[0m \u001b[0mIncrementalDecoder\u001b[0m\u001b[1;33m(\u001b[0m\u001b[0mcodecs\u001b[0m\u001b[1;33m.\u001b[0m\u001b[0mIncrementalDecoder\u001b[0m\u001b[1;33m)\u001b[0m\u001b[1;33m:\u001b[0m\u001b[1;33m\u001b[0m\u001b[1;33m\u001b[0m\u001b[0m\n\u001b[0;32m     22\u001b[0m     \u001b[1;32mdef\u001b[0m \u001b[0mdecode\u001b[0m\u001b[1;33m(\u001b[0m\u001b[0mself\u001b[0m\u001b[1;33m,\u001b[0m \u001b[0minput\u001b[0m\u001b[1;33m,\u001b[0m \u001b[0mfinal\u001b[0m\u001b[1;33m=\u001b[0m\u001b[1;32mFalse\u001b[0m\u001b[1;33m)\u001b[0m\u001b[1;33m:\u001b[0m\u001b[1;33m\u001b[0m\u001b[1;33m\u001b[0m\u001b[0m\n\u001b[1;32m---> 23\u001b[1;33m         \u001b[1;32mreturn\u001b[0m \u001b[0mcodecs\u001b[0m\u001b[1;33m.\u001b[0m\u001b[0mcharmap_decode\u001b[0m\u001b[1;33m(\u001b[0m\u001b[0minput\u001b[0m\u001b[1;33m,\u001b[0m\u001b[0mself\u001b[0m\u001b[1;33m.\u001b[0m\u001b[0merrors\u001b[0m\u001b[1;33m,\u001b[0m\u001b[0mdecoding_table\u001b[0m\u001b[1;33m)\u001b[0m\u001b[1;33m[\u001b[0m\u001b[1;36m0\u001b[0m\u001b[1;33m]\u001b[0m\u001b[1;33m\u001b[0m\u001b[1;33m\u001b[0m\u001b[0m\n\u001b[0m\u001b[0;32m     24\u001b[0m \u001b[1;33m\u001b[0m\u001b[0m\n\u001b[0;32m     25\u001b[0m \u001b[1;32mclass\u001b[0m \u001b[0mStreamWriter\u001b[0m\u001b[1;33m(\u001b[0m\u001b[0mCodec\u001b[0m\u001b[1;33m,\u001b[0m\u001b[0mcodecs\u001b[0m\u001b[1;33m.\u001b[0m\u001b[0mStreamWriter\u001b[0m\u001b[1;33m)\u001b[0m\u001b[1;33m:\u001b[0m\u001b[1;33m\u001b[0m\u001b[1;33m\u001b[0m\u001b[0m\n",
      "\u001b[1;31mUnicodeDecodeError\u001b[0m: 'charmap' codec can't decode byte 0x9d in position 7635: character maps to <undefined>"
     ]
    }
   ],
   "source": [
    "for f in folders:\n",
    "    print(f.upper())\n",
    "    mod = os.path.join(root, f)\n",
    "    os.chdir(mod)\n",
    "    mod_files = os.listdir('.')\n",
    "    \n",
    "    for i in mod_files:\n",
    "        if 'TRIPS' in i.upper() and :\n",
    "            print('    trips')\n",
    "            import_matrix(i)"
   ]
  },
  {
   "cell_type": "code",
   "execution_count": 16,
   "metadata": {},
   "outputs": [
    {
     "data": {
      "text/plain": [
       "['ChicagoRegional_flow.tntp',\n",
       " 'ChicagoRegional_net.tntp',\n",
       " 'ChicagoRegional_node.tntp',\n",
       " 'ChicagoRegional_trips.tntp',\n",
       " 'README.md']"
      ]
     },
     "execution_count": 16,
     "metadata": {},
     "output_type": "execute_result"
    }
   ],
   "source": []
  },
  {
   "cell_type": "code",
   "execution_count": 4,
   "metadata": {},
   "outputs": [],
   "source": [
    "net = 'SiouxFalls_net.tntp'\n",
    "net = pd.read_csv(net, skiprows=7, sep='\\t')"
   ]
  },
  {
   "cell_type": "code",
   "execution_count": 24,
   "metadata": {},
   "outputs": [],
   "source": [
    "matfile = 'SiouxFalls_trips.tntp'\n",
    "omxfile = 'demand.omx'\n",
    "aemfile = 'demand.aem'"
   ]
  },
  {
   "cell_type": "code",
   "execution_count": 7,
   "metadata": {},
   "outputs": [],
   "source": []
  },
  {
   "cell_type": "code",
   "execution_count": 25,
   "metadata": {},
   "outputs": [],
   "source": []
  },
  {
   "cell_type": "code",
   "execution_count": 23,
   "metadata": {},
   "outputs": [],
   "source": []
  },
  {
   "cell_type": "markdown",
   "metadata": {},
   "source": [
    "# NETWORK"
   ]
  },
  {
   "cell_type": "code",
   "execution_count": 9,
   "metadata": {},
   "outputs": [],
   "source": [
    "net = 'SiouxFalls_net.tntp'\n",
    "net = pd.read_csv(net, skiprows=7, sep='\\t')"
   ]
  },
  {
   "cell_type": "code",
   "execution_count": 10,
   "metadata": {},
   "outputs": [],
   "source": []
  },
  {
   "cell_type": "code",
   "execution_count": 16,
   "metadata": {},
   "outputs": [
    {
     "data": {
      "text/plain": [
       "Index(['~ ', 'Init node ', 'Term node ', 'Capacity ', 'Length ',\n",
       "       'Free Flow Time ', 'B', 'Power', 'Speed limit ', 'Toll ', 'Type', ';'],\n",
       "      dtype='object')"
      ]
     },
     "execution_count": 16,
     "metadata": {},
     "output_type": "execute_result"
    }
   ],
   "source": [
    "net.columns"
   ]
  },
  {
   "cell_type": "code",
   "execution_count": 17,
   "metadata": {},
   "outputs": [],
   "source": [
    "g = Graph()\n",
    "g.cost = net['Free Flow Time '].values\n",
    "g.capacity = net['Capacity '].values\n",
    "g.free_flow_time = net['Free Flow Time '].values\n",
    "\n"
   ]
  },
  {
   "cell_type": "code",
   "execution_count": 20,
   "metadata": {},
   "outputs": [],
   "source": [
    "# network = net[['Tail', 'Head', 'Free Flow Time (min)', 'Capacity (veh/h)' ]]  # titles for Anaheim\n",
    "network = net[['Init node ', 'Term node ', 'Free Flow Time ', 'Capacity ']]\n",
    "\n",
    "network.columns = ['a_node', 'b_node', 'time', 'capacity']\n",
    "network = network.assign(direction=1)\n",
    "g.network = network.to_records(index=False)\n",
    "g.network_ok = True\n",
    "g.status = 'OK'"
   ]
  },
  {
   "cell_type": "code",
   "execution_count": 21,
   "metadata": {
    "collapsed": true
   },
   "outputs": [
    {
     "data": {
      "text/plain": [
       "array([(0,  0,  1, 1,  0, 0, 0.), (0,  0,  2, 1,  1, 0, 0.),\n",
       "       (0,  1,  0, 1,  2, 0, 0.), (0,  1,  5, 1,  3, 0, 0.),\n",
       "       (0,  2,  0, 1,  4, 0, 0.), (0,  2,  3, 1,  5, 0, 0.),\n",
       "       (0,  2, 11, 1,  6, 0, 0.), (0,  3,  2, 1,  7, 0, 0.),\n",
       "       (0,  3,  4, 1,  8, 0, 0.), (0,  3, 10, 1,  9, 0, 0.),\n",
       "       (0,  4,  3, 1, 10, 0, 0.), (0,  4,  5, 1, 11, 0, 0.),\n",
       "       (0,  4,  8, 1, 12, 0, 0.), (0,  5,  1, 1, 13, 0, 0.),\n",
       "       (0,  5,  4, 1, 14, 0, 0.), (0,  5,  7, 1, 15, 0, 0.),\n",
       "       (0,  6,  7, 1, 16, 0, 0.), (0,  6, 17, 1, 17, 0, 0.),\n",
       "       (0,  7,  5, 1, 18, 0, 0.), (0,  7,  6, 1, 19, 0, 0.),\n",
       "       (0,  7,  8, 1, 20, 0, 0.), (0,  7, 15, 1, 21, 0, 0.),\n",
       "       (0,  8,  4, 1, 22, 0, 0.), (0,  8,  7, 1, 23, 0, 0.),\n",
       "       (0,  8,  9, 1, 24, 0, 0.), (0,  9,  8, 1, 25, 0, 0.),\n",
       "       (0,  9, 10, 1, 26, 0, 0.), (0,  9, 14, 1, 27, 0, 0.),\n",
       "       (0,  9, 15, 1, 28, 0, 0.), (0,  9, 16, 1, 29, 0, 0.),\n",
       "       (0, 10,  3, 1, 30, 0, 0.), (0, 10,  9, 1, 31, 0, 0.),\n",
       "       (0, 10, 11, 1, 32, 0, 0.), (0, 10, 13, 1, 33, 0, 0.),\n",
       "       (0, 11,  2, 1, 34, 0, 0.), (0, 11, 10, 1, 35, 0, 0.),\n",
       "       (0, 11, 12, 1, 36, 0, 0.), (0, 12, 11, 1, 37, 0, 0.),\n",
       "       (0, 12, 23, 1, 38, 0, 0.), (0, 13, 10, 1, 39, 0, 0.),\n",
       "       (0, 13, 14, 1, 40, 0, 0.), (0, 13, 22, 1, 41, 0, 0.),\n",
       "       (0, 14,  9, 1, 42, 0, 0.), (0, 14, 13, 1, 43, 0, 0.),\n",
       "       (0, 14, 18, 1, 44, 0, 0.), (0, 14, 21, 1, 45, 0, 0.),\n",
       "       (0, 15,  7, 1, 46, 0, 0.), (0, 15,  9, 1, 47, 0, 0.),\n",
       "       (0, 15, 16, 1, 48, 0, 0.), (0, 15, 17, 1, 49, 0, 0.),\n",
       "       (0, 16,  9, 1, 50, 0, 0.), (0, 16, 15, 1, 51, 0, 0.),\n",
       "       (0, 16, 18, 1, 52, 0, 0.), (0, 17,  6, 1, 53, 0, 0.),\n",
       "       (0, 17, 15, 1, 54, 0, 0.), (0, 17, 19, 1, 55, 0, 0.),\n",
       "       (0, 18, 14, 1, 56, 0, 0.), (0, 18, 16, 1, 57, 0, 0.),\n",
       "       (0, 18, 19, 1, 58, 0, 0.), (0, 19, 17, 1, 59, 0, 0.),\n",
       "       (0, 19, 18, 1, 60, 0, 0.), (0, 19, 20, 1, 61, 0, 0.),\n",
       "       (0, 19, 21, 1, 62, 0, 0.), (0, 20, 19, 1, 63, 0, 0.),\n",
       "       (0, 20, 21, 1, 64, 0, 0.), (0, 20, 23, 1, 65, 0, 0.),\n",
       "       (0, 21, 14, 1, 66, 0, 0.), (0, 21, 19, 1, 67, 0, 0.),\n",
       "       (0, 21, 20, 1, 68, 0, 0.), (0, 21, 22, 1, 69, 0, 0.),\n",
       "       (0, 22, 13, 1, 70, 0, 0.), (0, 22, 21, 1, 71, 0, 0.),\n",
       "       (0, 22, 23, 1, 72, 0, 0.), (0, 23, 12, 1, 73, 0, 0.),\n",
       "       (0, 23, 20, 1, 74, 0, 0.), (0, 23, 22, 1, 75, 0, 0.)],\n",
       "      dtype=[('link_id', '<i8'), ('a_node', '<i8'), ('b_node', '<i8'), ('direction', 'i1'), ('id', '<i8'), ('t', '<i8'), ('capac', '<f8')])"
      ]
     },
     "execution_count": 21,
     "metadata": {},
     "output_type": "execute_result"
    }
   ],
   "source": [
    "g.prepare_graph(index)\n",
    "g.graph"
   ]
  },
  {
   "cell_type": "code",
   "execution_count": 22,
   "metadata": {},
   "outputs": [],
   "source": [
    "g.save_to_disk('graph.aem')"
   ]
  }
 ],
 "metadata": {
  "kernelspec": {
   "display_name": "Python 3",
   "language": "python",
   "name": "python3"
  },
  "language_info": {
   "codemirror_mode": {
    "name": "ipython",
    "version": 3
   },
   "file_extension": ".py",
   "mimetype": "text/x-python",
   "name": "python",
   "nbconvert_exporter": "python",
   "pygments_lexer": "ipython3",
   "version": "3.7.4"
  }
 },
 "nbformat": 4,
 "nbformat_minor": 4
}
